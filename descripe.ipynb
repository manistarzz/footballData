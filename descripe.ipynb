{
 "cells": [
  {
   "cell_type": "code",
   "execution_count": 19,
   "metadata": {},
   "outputs": [
    {
     "name": "stdout",
     "output_type": "stream",
     "text": [
      "               count      mean       std  min   25%  50%   75%   max\n",
      "Referee                                                             \n",
      "A Marriner      28.0  3.464286  2.081348  0.0  1.75  4.0  5.00   7.0\n",
      "A Taylor        30.0  3.966667  1.973677  0.0  3.00  4.0  5.00   8.0\n",
      "C Kavanagh       1.0  4.000000       NaN  4.0  4.00  4.0  4.00   4.0\n",
      "C Pawson        24.0  3.916667  2.339020  0.0  2.75  3.5  5.00  11.0\n",
      "G Scott          8.0  2.625000  1.187735  1.0  2.00  2.5  3.00   5.0\n",
      "J Moss          30.0  3.966667  2.008316  1.0  2.25  4.0  5.00   9.0\n",
      "K Friend        20.0  4.700000  2.154555  1.0  3.00  4.5  6.00   9.0\n",
      "L Mason         19.0  3.526316  2.412201  0.0  2.00  3.0  5.50   8.0\n",
      "L Probert        4.0  3.000000  2.449490  1.0  1.00  2.5  4.50   6.0\n",
      "M Atkinson      27.0  3.222222  2.241794  0.0  1.50  3.0  4.50   8.0\n",
      "M Clattenburg   22.0  3.272727  1.608958  0.0  2.00  3.0  4.00   6.0\n",
      "M Dean          30.0  3.666667  1.768173  1.0  2.00  3.0  5.00   7.0\n",
      "M Jones         18.0  3.388889  2.173067  0.0  2.00  4.0  4.75   8.0\n",
      "M Oliver        33.0  3.333333  1.947220  0.0  2.00  3.0  5.00   7.0\n",
      "N Swarbrick     24.0  3.708333  1.398109  1.0  3.00  4.0  5.00   6.0\n",
      "P Tierney       10.0  2.900000  1.286684  1.0  2.00  3.0  3.00   5.0\n",
      "R East          11.0  3.272727  1.902152  0.0  2.00  3.0  5.00   6.0\n",
      "R Madley        30.0  4.133333  1.814374  1.0  3.00  4.0  5.75   8.0\n",
      "S Attwell       10.0  3.000000  1.943651  0.0  2.00  2.5  3.75   7.0\n",
      "l Mason          1.0  5.000000       NaN  5.0  5.00  5.0  5.00   5.0\n"
     ]
    }
   ],
   "source": [
    "import numpy as np \n",
    "import pandas as pd\n",
    "df=pd.read_csv('Refs.csv')\n",
    "\n",
    "df.columns = ['Date','HomeTeam','AwayTeam',\n",
    "              'Referee','HomeFouls','AwayFouls',\n",
    "              'TotalFouls','HomeYellows','AwayYellows',\n",
    "              'TotalYellows', 'HomeReds','AwayReds','TotalReds']\n",
    "\n",
    "#this is to look at different summaries\n",
    "df.describe()\n",
    "\n",
    "#We want to analyse further by looking at referees individually\n",
    "groupedRefs=df.groupby(\"Referee\")\n",
    "\n",
    "\n",
    "#There's a lot going on so we want to look at yellowCards\n",
    "print(groupedRefs.describe()['TotalYellows'])\n",
    "\n",
    "\n"
   ]
  }
 ],
 "metadata": {
  "kernelspec": {
   "display_name": "studysession",
   "language": "python",
   "name": "python3"
  },
  "language_info": {
   "codemirror_mode": {
    "name": "ipython",
    "version": 3
   },
   "file_extension": ".py",
   "mimetype": "text/x-python",
   "name": "python",
   "nbconvert_exporter": "python",
   "pygments_lexer": "ipython3",
   "version": "3.10.10"
  },
  "orig_nbformat": 4
 },
 "nbformat": 4,
 "nbformat_minor": 2
}
